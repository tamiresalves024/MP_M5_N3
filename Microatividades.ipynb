{
  "nbformat": 4,
  "nbformat_minor": 0,
  "metadata": {
    "colab": {
      "provenance": [],
      "mount_file_id": "1LPovpEqTcq9LzcpmLD8iZ6c0trdqOjzj",
      "authorship_tag": "ABX9TyMFF5IUdlg11mqyN9ZE52uF",
      "include_colab_link": true
    },
    "kernelspec": {
      "name": "python3",
      "display_name": "Python 3"
    },
    "language_info": {
      "name": "python"
    }
  },
  "cells": [
    {
      "cell_type": "markdown",
      "metadata": {
        "id": "view-in-github",
        "colab_type": "text"
      },
      "source": [
        "<a href=\"https://colab.research.google.com/github/tamiresalves024/MP_M5_N3/blob/main/Microatividades.ipynb\" target=\"_parent\"><img src=\"https://colab.research.google.com/assets/colab-badge.svg\" alt=\"Open In Colab\"/></a>"
      ]
    },
    {
      "cell_type": "markdown",
      "source": [
        "**Microatividade 1**"
      ],
      "metadata": {
        "id": "KW2VLBhcXpos"
      }
    },
    {
      "cell_type": "code",
      "source": [
        "import pandas as pd\n",
        "\n",
        "csv_file_path = '/data.csv'\n",
        "\n",
        "data = pd.read_csv(csv_file_path, sep=';', engine='python', encoding='utf-8')\n",
        "\n",
        "print(data)"
      ],
      "metadata": {
        "colab": {
          "base_uri": "https://localhost:8080/"
        },
        "id": "mlpoSP6UXu_m",
        "outputId": "f645b5ca-3690-4394-87e1-0c4e743ff412"
      },
      "execution_count": 22,
      "outputs": [
        {
          "output_type": "stream",
          "name": "stdout",
          "text": [
            "    ID  Duration          Date  Pulse  Maxpulse Calories\n",
            "0    0        60  '2020/12/01'    110       130     4091\n",
            "1    1        60  '2020/12/02'    117       145     4790\n",
            "2    2        60  '2020/12/03'    103       135     3400\n",
            "3    3        45  '2020/12/04'    109       175     2824\n",
            "4    4        45  '2020/12/05'    117       148     4060\n",
            "5    5        60  '2020/12/06'    102       127     3000\n",
            "6    6        60  '2020/12/07'    110       136     3740\n",
            "7    7       450  '2020/12/08'    104       134     2533\n",
            "8    8        30  '2020/12/09'    109       133     1951\n",
            "9    9        60  '2020/12/10'     98       124     2690\n",
            "10  10        60  '2020/12/11'    103       147     3293\n",
            "11  11        60  '2020/12/12'    100       120     2507\n",
            "12  12        60  '2020/12/12'    100       120     2507\n",
            "13  13        60  '2020/12/13'    106       128     3453\n",
            "14  14        60  '2020/12/14'    104       132     3793\n",
            "15  15        60  '2020/12/15'     98       123     2750\n",
            "16  16        60  '2020/12/16'     98       120     2152\n",
            "17  17        60  '2020/12/17'    100       120     3000\n",
            "18  18        45  '2020/12/18'     90       112      NaN\n",
            "19  19        60  '2020/12/19'    103       123     3230\n",
            "20  20        45  '2020/12/20'     97       125   2430 2\n",
            "21   1        60  '2020/12/21'    108       131     3642\n",
            "22  22        45           NaN    100       119     2820\n",
            "23  23        60  '2020/12/23'    130       101     3000\n",
            "24  24        45  '2020/12/24'    105       132     2460\n",
            "25  25        60  '2020/12/25'    102       126     3345\n",
            "26  26        60      20201226    100       120     2500\n",
            "27  27        60  '2020/12/27'     92       118     2410\n",
            "28  28        60  '2020/12/28'    103       132      NaN\n",
            "29  29        60  '2020/12/29'    100       132     2800\n",
            "30  30        60  '2020/12/30'    102       129     3803\n",
            "31  31        60  '2020/12/31'     92       115     2430\n"
          ]
        }
      ]
    },
    {
      "cell_type": "markdown",
      "source": [
        "**Microatividade 2**"
      ],
      "metadata": {
        "id": "zcC6n9wmX1En"
      }
    },
    {
      "cell_type": "code",
      "source": [
        "import pandas as pd\n",
        "\n",
        "csv_file_path = '/data.csv'\n",
        "\n",
        "data = pd.read_csv(csv_file_path, sep=';', engine='python', encoding='utf-8')\n",
        "\n",
        "subconjunto = data[['Duration', 'Date', 'Calories']]\n",
        "\n",
        "print(subconjunto)\n"
      ],
      "metadata": {
        "colab": {
          "base_uri": "https://localhost:8080/"
        },
        "id": "Nssdu-dhcoq_",
        "outputId": "340b4314-b3dd-4347-9eec-a26a7e073c26"
      },
      "execution_count": 24,
      "outputs": [
        {
          "output_type": "stream",
          "name": "stdout",
          "text": [
            "    Duration          Date Calories\n",
            "0         60  '2020/12/01'     4091\n",
            "1         60  '2020/12/02'     4790\n",
            "2         60  '2020/12/03'     3400\n",
            "3         45  '2020/12/04'     2824\n",
            "4         45  '2020/12/05'     4060\n",
            "5         60  '2020/12/06'     3000\n",
            "6         60  '2020/12/07'     3740\n",
            "7        450  '2020/12/08'     2533\n",
            "8         30  '2020/12/09'     1951\n",
            "9         60  '2020/12/10'     2690\n",
            "10        60  '2020/12/11'     3293\n",
            "11        60  '2020/12/12'     2507\n",
            "12        60  '2020/12/12'     2507\n",
            "13        60  '2020/12/13'     3453\n",
            "14        60  '2020/12/14'     3793\n",
            "15        60  '2020/12/15'     2750\n",
            "16        60  '2020/12/16'     2152\n",
            "17        60  '2020/12/17'     3000\n",
            "18        45  '2020/12/18'      NaN\n",
            "19        60  '2020/12/19'     3230\n",
            "20        45  '2020/12/20'   2430 2\n",
            "21        60  '2020/12/21'     3642\n",
            "22        45           NaN     2820\n",
            "23        60  '2020/12/23'     3000\n",
            "24        45  '2020/12/24'     2460\n",
            "25        60  '2020/12/25'     3345\n",
            "26        60      20201226     2500\n",
            "27        60  '2020/12/27'     2410\n",
            "28        60  '2020/12/28'      NaN\n",
            "29        60  '2020/12/29'     2800\n",
            "30        60  '2020/12/30'     3803\n",
            "31        60  '2020/12/31'     2430\n"
          ]
        }
      ]
    },
    {
      "cell_type": "markdown",
      "source": [
        "**Microatividade 3**"
      ],
      "metadata": {
        "id": "zU0veldhdbvU"
      }
    },
    {
      "cell_type": "code",
      "source": [
        "import pandas as pd\n",
        "\n",
        "data = pd.read_csv(csv_file_path, sep=';', engine='python', encoding='utf-8')\n",
        "pd.set_option('display.max_rows', 9999)\n",
        "\n",
        "print(data.to_string())"
      ],
      "metadata": {
        "colab": {
          "base_uri": "https://localhost:8080/"
        },
        "id": "Vc2MnUlEdmIv",
        "outputId": "92a2b97e-f7b6-4c81-8d1b-08b0d483dadd"
      },
      "execution_count": 25,
      "outputs": [
        {
          "output_type": "stream",
          "name": "stdout",
          "text": [
            "    ID  Duration          Date  Pulse  Maxpulse Calories\n",
            "0    0        60  '2020/12/01'    110       130     4091\n",
            "1    1        60  '2020/12/02'    117       145     4790\n",
            "2    2        60  '2020/12/03'    103       135     3400\n",
            "3    3        45  '2020/12/04'    109       175     2824\n",
            "4    4        45  '2020/12/05'    117       148     4060\n",
            "5    5        60  '2020/12/06'    102       127     3000\n",
            "6    6        60  '2020/12/07'    110       136     3740\n",
            "7    7       450  '2020/12/08'    104       134     2533\n",
            "8    8        30  '2020/12/09'    109       133     1951\n",
            "9    9        60  '2020/12/10'     98       124     2690\n",
            "10  10        60  '2020/12/11'    103       147     3293\n",
            "11  11        60  '2020/12/12'    100       120     2507\n",
            "12  12        60  '2020/12/12'    100       120     2507\n",
            "13  13        60  '2020/12/13'    106       128     3453\n",
            "14  14        60  '2020/12/14'    104       132     3793\n",
            "15  15        60  '2020/12/15'     98       123     2750\n",
            "16  16        60  '2020/12/16'     98       120     2152\n",
            "17  17        60  '2020/12/17'    100       120     3000\n",
            "18  18        45  '2020/12/18'     90       112      NaN\n",
            "19  19        60  '2020/12/19'    103       123     3230\n",
            "20  20        45  '2020/12/20'     97       125   2430 2\n",
            "21   1        60  '2020/12/21'    108       131     3642\n",
            "22  22        45           NaN    100       119     2820\n",
            "23  23        60  '2020/12/23'    130       101     3000\n",
            "24  24        45  '2020/12/24'    105       132     2460\n",
            "25  25        60  '2020/12/25'    102       126     3345\n",
            "26  26        60      20201226    100       120     2500\n",
            "27  27        60  '2020/12/27'     92       118     2410\n",
            "28  28        60  '2020/12/28'    103       132      NaN\n",
            "29  29        60  '2020/12/29'    100       132     2800\n",
            "30  30        60  '2020/12/30'    102       129     3803\n",
            "31  31        60  '2020/12/31'     92       115     2430\n"
          ]
        }
      ]
    },
    {
      "cell_type": "markdown",
      "source": [
        "**Microatividade 4**"
      ],
      "metadata": {
        "id": "8J2gJj6heGe2"
      }
    },
    {
      "cell_type": "code",
      "source": [
        "import pandas as pd\n",
        "\n",
        "data = pd.read_csv(csv_file_path, sep=';', engine='python', encoding='utf-8')\n",
        "print(data.head(10))\n",
        "print(data.tail(10))"
      ],
      "metadata": {
        "colab": {
          "base_uri": "https://localhost:8080/"
        },
        "id": "06npv4tNeJnI",
        "outputId": "ff395360-6fb3-44b1-eb85-5c08442e284c"
      },
      "execution_count": 26,
      "outputs": [
        {
          "output_type": "stream",
          "name": "stdout",
          "text": [
            "   ID  Duration          Date  Pulse  Maxpulse Calories\n",
            "0   0        60  '2020/12/01'    110       130     4091\n",
            "1   1        60  '2020/12/02'    117       145     4790\n",
            "2   2        60  '2020/12/03'    103       135     3400\n",
            "3   3        45  '2020/12/04'    109       175     2824\n",
            "4   4        45  '2020/12/05'    117       148     4060\n",
            "5   5        60  '2020/12/06'    102       127     3000\n",
            "6   6        60  '2020/12/07'    110       136     3740\n",
            "7   7       450  '2020/12/08'    104       134     2533\n",
            "8   8        30  '2020/12/09'    109       133     1951\n",
            "9   9        60  '2020/12/10'     98       124     2690\n",
            "    ID  Duration          Date  Pulse  Maxpulse Calories\n",
            "22  22        45           NaN    100       119     2820\n",
            "23  23        60  '2020/12/23'    130       101     3000\n",
            "24  24        45  '2020/12/24'    105       132     2460\n",
            "25  25        60  '2020/12/25'    102       126     3345\n",
            "26  26        60      20201226    100       120     2500\n",
            "27  27        60  '2020/12/27'     92       118     2410\n",
            "28  28        60  '2020/12/28'    103       132      NaN\n",
            "29  29        60  '2020/12/29'    100       132     2800\n",
            "30  30        60  '2020/12/30'    102       129     3803\n",
            "31  31        60  '2020/12/31'     92       115     2430\n"
          ]
        }
      ]
    },
    {
      "cell_type": "markdown",
      "source": [
        "**Microatividade 5**"
      ],
      "metadata": {
        "id": "oaUTL-0-edi-"
      }
    },
    {
      "cell_type": "code",
      "source": [
        "import pandas as pd\n",
        "\n",
        "data = pd.read_csv(csv_file_path, sep=';', engine='python', encoding='utf-8')\n",
        "print(data.info())"
      ],
      "metadata": {
        "colab": {
          "base_uri": "https://localhost:8080/"
        },
        "id": "1MIwHIF9eg9n",
        "outputId": "5d624f9d-0389-4b7f-e3a8-e27da2bff860"
      },
      "execution_count": 27,
      "outputs": [
        {
          "output_type": "stream",
          "name": "stdout",
          "text": [
            "<class 'pandas.core.frame.DataFrame'>\n",
            "RangeIndex: 32 entries, 0 to 31\n",
            "Data columns (total 6 columns):\n",
            " #   Column    Non-Null Count  Dtype \n",
            "---  ------    --------------  ----- \n",
            " 0   ID        32 non-null     int64 \n",
            " 1   Duration  32 non-null     int64 \n",
            " 2   Date      31 non-null     object\n",
            " 3   Pulse     32 non-null     int64 \n",
            " 4   Maxpulse  32 non-null     int64 \n",
            " 5   Calories  30 non-null     object\n",
            "dtypes: int64(4), object(2)\n",
            "memory usage: 1.6+ KB\n",
            "None\n"
          ]
        }
      ]
    }
  ]
}